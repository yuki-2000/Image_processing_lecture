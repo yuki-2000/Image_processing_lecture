{
  "cells": [
    {
      "cell_type": "markdown",
      "metadata": {
        "id": "view-in-github",
        "colab_type": "text"
      },
      "source": [
        "<a href=\"https://colab.research.google.com/github/yuki-2000/Image_processing_lecture/blob/main/IP2022_06b.ipynb\" target=\"_parent\"><img src=\"https://colab.research.google.com/assets/colab-badge.svg\" alt=\"Open In Colab\"/></a>"
      ]
    },
    {
      "cell_type": "code",
      "execution_count": null,
      "metadata": {
        "id": "bpGp0yd-a3c1",
        "colab": {
          "base_uri": "https://localhost:8080/"
        },
        "outputId": "b27e74f1-4d4a-46a6-d369-b7c9bfb0607d"
      },
      "outputs": [
        {
          "output_type": "stream",
          "name": "stdout",
          "text": [
            "Drive already mounted at /content/drive/; to attempt to forcibly remount, call drive.mount(\"/content/drive/\", force_remount=True).\n",
            "/content/drive/MyDrive/Colab Notebooks\n"
          ]
        }
      ],
      "source": [
        "### 初期設定（このセルの中身は触らなくて良い）\n",
        "import numpy as np # 数値解析パッケージnumpyのimport\n",
        "import cv2 # 画像処理パッケージopencvのimport\n",
        "import matplotlib.pyplot as plt # 描画パッケージmatplotlibのimport\n",
        "import imutils\n",
        "\n",
        "# Google Colab固有の設定\n",
        "from google.colab import files\n",
        "from google.colab.patches import cv2_imshow\n",
        "\n",
        "# Google driveのmount\n",
        "from google.colab import drive\n",
        "drive.mount('/content/drive/')\n",
        "# Google Colab用directoryに移動\n",
        "%cd \"/content/drive/MyDrive/Colab Notebooks/\""
      ]
    },
    {
      "cell_type": "code",
      "execution_count": null,
      "metadata": {
        "id": "0KWi3aKybnNq",
        "colab": {
          "base_uri": "https://localhost:8080/",
          "height": 156
        },
        "outputId": "98794074-b8c9-4796-d86c-6546a20675c5"
      },
      "outputs": [
        {
          "output_type": "display_data",
          "data": {
            "text/plain": [
              "<PIL.Image.Image image mode=L size=180x120 at 0x7FE25E343CA0>"
            ],
            "image/png": "[encoded data removed]"
          },
          "metadata": {}
        },
        {
          "output_type": "display_data",
          "data": {
            "text/plain": [
              "<PIL.Image.Image image mode=L size=19x19 at 0x7FE26B7B2D00>"
            ],
            "image/png": "[encoded data removed]"
          },
          "metadata": {}
        }
      ],
      "source": [
        "### 1-1a: 画像の読込と表示（このセルの中身は触らなくて良い）\n",
        "img1 = imutils.url_to_image('https://bit.ly/3gqDW32', cv2.IMREAD_GRAYSCALE)\n",
        "\n",
        "# 読み込めなかった場合の例外処理\n",
        "if img1 is None:\n",
        "  print('Image file not found.')\n",
        "\n",
        "template = imutils.url_to_image('https://bit.ly/3tYCJTI', cv2.IMREAD_GRAYSCALE)\n",
        "\n",
        "# 読み込めなかった場合の例外処理\n",
        "if template is None:\n",
        "  print('Image file not found.')\n",
        "\n",
        "# 画像を表示\n",
        "cv2_imshow(img1)\n",
        "cv2_imshow(template)"
      ]
    },
    {
      "cell_type": "code",
      "execution_count": null,
      "metadata": {
        "id": "McqX4mB1OqPb",
        "colab": {
          "base_uri": "https://localhost:8080/",
          "height": 137
        },
        "outputId": "685db2f9-7efe-47a6-e7d5-0cfac74a583b"
      },
      "outputs": [
        {
          "output_type": "display_data",
          "data": {
            "text/plain": [
              "<PIL.Image.Image image mode=L size=1080x120 at 0x7FE25E343640>"
            ],
            "image/png": "[encoded data removed]"
          },
          "metadata": {}
        }
      ],
      "source": [
        "### 6-2a テンプレートマッチング（様々な相違度／類似度関数の比較）\n",
        "\n",
        "# 準備\n",
        "rows1, cols1 =  img1.shape# 入力画像の大きさ取得\n",
        "rowst, colst =  template.shape # テンプレート画像の大きさ取得\n",
        "diff_img_max = np.full((rows1, cols1), 255, np.uint8) # 相違度（最大値）表示のための白い画像を用意\n",
        "diff_img_abs = np.full((rows1, cols1), 255, np.uint16) # 相違度（絶対値）表示のための白い画像を用意\n",
        "diff_img_sqr = np.full((rows1, cols1), 255, np.uint16) # 相違度（2乗）表示のための白い画像を用意\n",
        "sim_img_cc = np.zeros((rows1, cols1), np.uint16) # 類似度（相互相関）表示のための黒い画像を用意\n",
        "sim_img_ncc = np.zeros((rows1, cols1), np.uint16) # 類似度（正規化相互相関）表示のための黒い画像を用意\n",
        "\n",
        "# 正規化相互相関計算のためにテンプレートの2乗和を計算\n",
        "sum_t = 0\n",
        "for k in range(0,rowst):\n",
        "  for l in range(0,colst):\n",
        "    sum_t += int(template[k][l])**2\n",
        "\n",
        "\n",
        "# 入力画像をラスタ走査し，各画素位置における相違度・類似度を計算\n",
        "for i in range(0, rows1 - rowst +1):\n",
        "  for j in range(0, cols1 - colst +1):\n",
        "    diff_max = 0\n",
        "    diff_abs = 0\n",
        "    diff_sqr = 0\n",
        "    sim_cc = 0\n",
        "    sum_i = 0\n",
        "    # テンプレートと重複する範囲内のラスタ走査\n",
        "    for k in range(0, rowst):\n",
        "      for l in range(0, colst):\n",
        "        diff_max = max(diff_max, np.abs(int(template[k][l])- int(img1[i+k][j+l])))\n",
        "        diff_abs += np.abs(int(template[k][l]) - int(img1[i+k][j+l]))\n",
        "        diff_sqr += (int(template[k][l]) - int(img1[i+k][j+l]))**2\n",
        "        sim_cc += int(template[k][l]) * int(img1[i+k][j+l])\n",
        "        sum_i += int(img1[i+k][j+l])**2\n",
        "\n",
        "    diff_img_max[i+int(rowst/2)][j+int(colst/2)] = diff_max\n",
        "    diff_img_abs[i+int(rowst/2)][j+int(colst/2)] = int(diff_abs/200)\n",
        "    diff_img_sqr[i+int(rowst/2)][j+int(colst/2)] = int(diff_sqr/40000)\n",
        "    sim_img_cc[i+int(rowst/2)][j+int(colst/2)] = int(sim_cc/40000)\n",
        "\n",
        "    if sum_i ==0:\n",
        "      sim_img_ncc[i+int(rowst/2)][j+int(colst/2)] =0\n",
        "    else:\n",
        "      sim_img_ncc[i+int(rowst/2)][j+int(colst/2)] =int(255 * sim_cc/np.sqrt(sum_t) / np.sqrt(sum_i))\n",
        "\n",
        "\n",
        "\n",
        "# 各相違度・類似度の分布を並べて表示\n",
        "figure = np.hstack((img1, diff_img_max, diff_img_abs, diff_img_sqr, sim_img_cc, sim_img_ncc))\n",
        "cv2_imshow(figure)\n",
        "\n",
        "\n",
        "\n",
        "\n",
        "\n",
        "\n"
      ]
    },
    {
      "cell_type": "code",
      "source": [
        "### 1-1: 画像の読込と表示（このセルの中身は触らなくて良い）\n",
        "img2 = imutils.url_to_image('https://bit.ly/3F7Fmch', cv2.IMREAD_GRAYSCALE)\n",
        "\n",
        "# 読み込めなかった場合の例外処理\n",
        "if img2 is None:\n",
        "  print('Image file not found.')\n",
        "\n",
        "# 画像を表示\n",
        "cv2_imshow(img2)"
      ],
      "metadata": {
        "id": "7zNdB_xBU1tj",
        "colab": {
          "base_uri": "https://localhost:8080/",
          "height": 137
        },
        "outputId": "05d6c900-f42a-4624-d341-69772eaf03ab"
      },
      "execution_count": null,
      "outputs": [
        {
          "output_type": "display_data",
          "data": {
            "text/plain": [
              "<PIL.Image.Image image mode=L size=180x120 at 0x7FE25E169490>"
            ],
            "image/png": "[encoded data removed]"
          },
          "metadata": {}
        }
      ]
    },
    {
      "cell_type": "code",
      "source": [
        "### 6-2b テンプレートマッチング（様々な大きさへの対応）\n",
        "\n",
        "# 準備\n",
        "rows2, cols2 = img2.shape\n",
        "\n",
        "# テンプレートを0.4倍から2.6倍まで0.2倍単位で拡縮して照合\n",
        "for z in range(4,26,2):\n",
        "\n",
        "  # 準備\n",
        "  diff_img_max = np.full((rows2, cols2), 255, np.uint8)\n",
        "  sim_img_ncc = np.zeros((rows2, cols2), np.uint16)\n",
        "   # 相違度（最大値）表示のための白い画像を用意\n",
        "   # 類似度（正規化相互相関）表示のための黒い画像を用意\n",
        "\n",
        "  # テンプレートを拡縮\n",
        "  rowstz = int(rowst * z/10)\n",
        "  colstz = int(colst * z/10)\n",
        "  template_z = cv2.resize(template, (rowstz, colstz))\n",
        "  # 以下，6-2aと同様の処理\n",
        "  # 正規化相互相関計算のためにテンプレートの2乗和を計算\n",
        "  sum_t = 0\n",
        "  for k in range(0,rowstz):\n",
        "    for l in range(0,colstz):\n",
        "      sum_t += int(template_z[k][l])**2\n",
        "\n",
        "\n",
        "  # 入力画像をラスタ走査し，各画素位置における相違度・類似度を計算\n",
        "  for i in range(0, rows2 - rowstz +1):\n",
        "    for j in range(0, cols2 - colstz +1):\n",
        "      diff_max = 0\n",
        "      sim_cc = 0\n",
        "      sum_i = 0\n",
        "      # テンプレートと重複する範囲内のラスタ走査\n",
        "      for k in range(0, rowstz):\n",
        "        for l in range(0, colstz):\n",
        "          diff_max = max(diff_max, np.abs(int(template_z[k][l])- int(img2[i+k][j+l])))\n",
        "          sim_cc += int(template_z[k][l]) * int(img2[i+k][j+l])\n",
        "          sum_i += int(img2[i+k][j+l])**2\n",
        "\n",
        "      diff_img_max[i+int(rowstz/2)][j+int(colstz/2)] = diff_max\n",
        "      sim_img_cc[i+int(rowstz/2)][j+int(colstz/2)] = int(sim_cc/40000)\n",
        "\n",
        "      if sum_i ==0:\n",
        "        sim_img_ncc[i+int(rowstz/2)][j+int(colstz/2)] =0\n",
        "      else:\n",
        "        sim_img_ncc[i+int(rowstz/2)][j+int(colstz/2)] =int(255 * sim_cc/np.sqrt(sum_t) / np.sqrt(sum_i))\n",
        "\n",
        "  \n",
        "  # 各相違度・類似度の分布を並べて表示\n",
        "  print(\"x\", z/10, \"(\", rowstz, colstz, \")\")\n",
        "  cv2_imshow(template_z)\n",
        "  figure = np.hstack((img2, diff_img_max, sim_img_ncc))\n",
        "  cv2_imshow(figure)\n"
      ],
      "metadata": {
        "id": "9yXoH9CZVB-L",
        "colab": {
          "base_uri": "https://localhost:8080/",
          "height": 1000
        },
        "outputId": "9f5aed50-a3b0-45a3-e367-5c9be320450f"
      },
      "execution_count": null,
      "outputs": [
        {
          "output_type": "stream",
          "name": "stdout",
          "text": [
            "(19, 19)\n",
            "7 7\n",
            "x 0.4 ( 7 7 )\n"
          ]
        },
        {
          "output_type": "display_data",
          "data": {
            "text/plain": [
              "<PIL.Image.Image image mode=L size=7x7 at 0x7FE26E017C40>"
            ],
            "image/png": "[encoded data removed]"
          },
          "metadata": {}
        },
        {
          "output_type": "display_data",
          "data": {
            "text/plain": [
              "<PIL.Image.Image image mode=L size=540x120 at 0x7FE26E017C40>"
            ],
            "image/png": "[encoded data removed]"
          },
          "metadata": {}
        },
        {
          "output_type": "stream",
          "name": "stdout",
          "text": [
            "11 11\n",
            "x 0.6 ( 11 11 )\n"
          ]
        },
        {
          "output_type": "display_data",
          "data": {
            "text/plain": [
              "<PIL.Image.Image image mode=L size=11x11 at 0x7FE25DFCB460>"
            ],
            "image/png": "[encoded data removed]"
          },
          "metadata": {}
        },
        {
          "output_type": "display_data",
          "data": {
            "text/plain": [
              "<PIL.Image.Image image mode=L size=540x120 at 0x7FE25EEE6FA0>"
            ],
            "image/png": "[encoded data removed]"
          },
          "metadata": {}
        },
        {
          "output_type": "stream",
          "name": "stdout",
          "text": [
            "15 15\n",
            "x 0.8 ( 15 15 )\n"
          ]
        },
        {
          "output_type": "display_data",
          "data": {
            "text/plain": [
              "<PIL.Image.Image image mode=L size=15x15 at 0x7FE25DFCB4C0>"
            ],
            "image/png": "[encoded data removed]"
          },
          "metadata": {}
        },
        {
          "output_type": "display_data",
          "data": {
            "text/plain": [
              "<PIL.Image.Image image mode=L size=540x120 at 0x7FE25EEE62E0>"
            ],
            "image/png": "[encoded data removed]"
          },
          "metadata": {}
        },
        {
          "output_type": "stream",
          "name": "stdout",
          "text": [
            "19 19\n",
            "x 1.0 ( 19 19 )\n"
          ]
        },
        {
          "output_type": "display_data",
          "data": {
            "text/plain": [
              "<PIL.Image.Image image mode=L size=19x19 at 0x7FE26E017C40>"
            ],
            "image/png": "[encoded data removed]"
          },
          "metadata": {}
        },
        {
          "output_type": "display_data",
          "data": {
            "text/plain": [
              "<PIL.Image.Image image mode=L size=540x120 at 0x7FE26E017C40>"
            ],
            "image/png": "[encoded data removed]"
          },
          "metadata": {}
        },
        {
          "output_type": "stream",
          "name": "stdout",
          "text": [
            "22 22\n",
            "x 1.2 ( 22 22 )\n"
          ]
        },
        {
          "output_type": "display_data",
          "data": {
            "text/plain": [
              "<PIL.Image.Image image mode=L size=22x22 at 0x7FE25DFCB400>"
            ],
            "image/png": "[encoded data removed]"
          },
          "metadata": {}
        },
        {
          "output_type": "display_data",
          "data": {
            "text/plain": [
              "<PIL.Image.Image image mode=L size=540x120 at 0x7FE26B7BB550>"
            ],
            "image/png": "[encoded data removed]"
          },
          "metadata": {}
        },
        {
          "output_type": "stream",
          "name": "stdout",
          "text": [
            "26 26\n",
            "x 1.4 ( 26 26 )\n"
          ]
        },
        {
          "output_type": "display_data",
          "data": {
            "text/plain": [
              "<PIL.Image.Image image mode=L size=26x26 at 0x7FE25DFCB580>"
            ],
            "image/png": "[encoded data removed]"
          },
          "metadata": {}
        },
        {
          "output_type": "display_data",
          "data": {
            "text/plain": [
              "<PIL.Image.Image image mode=L size=540x120 at 0x7FE26B7BB550>"
            ],
            "image/png": "[encoded data removed]"
          },
          "metadata": {}
        },
        {
          "output_type": "stream",
          "name": "stdout",
          "text": [
            "30 30\n",
            "x 1.6 ( 30 30 )\n"
          ]
        },
        {
          "output_type": "display_data",
          "data": {
            "text/plain": [
              "<PIL.Image.Image image mode=L size=30x30 at 0x7FE25EEE6FA0>"
            ],
            "image/png": "[encoded data removed]"
          },
          "metadata": {}
        },
        {
          "output_type": "display_data",
          "data": {
            "text/plain": [
              "<PIL.Image.Image image mode=L size=540x120 at 0x7FE25EEE6FA0>"
            ],
            "image/png": "[encoded data removed]"
          },
          "metadata": {}
        },
        {
          "output_type": "stream",
          "name": "stdout",
          "text": [
            "34 34\n",
            "x 1.8 ( 34 34 )\n"
          ]
        },
        {
          "output_type": "display_data",
          "data": {
            "text/plain": [
              "<PIL.Image.Image image mode=L size=34x34 at 0x7FE25DFCB310>"
            ],
            "image/png": "[encoded data removed]"
          },
          "metadata": {}
        },
        {
          "output_type": "display_data",
          "data": {
            "text/plain": [
              "<PIL.Image.Image image mode=L size=540x120 at 0x7FE25EEE6FA0>"
            ],
            "image/png": "[encoded data removed]"
          },
          "metadata": {}
        },
        {
          "output_type": "stream",
          "name": "stdout",
          "text": [
            "38 38\n",
            "x 2.0 ( 38 38 )\n"
          ]
        },
        {
          "output_type": "display_data",
          "data": {
            "text/plain": [
              "<PIL.Image.Image image mode=L size=38x38 at 0x7FE25DFCB3D0>"
            ],
            "image/png": "[encoded data removed]"
          },
          "metadata": {}
        },
        {
          "output_type": "display_data",
          "data": {
            "text/plain": [
              "<PIL.Image.Image image mode=L size=540x120 at 0x7FE26B7BB550>"
            ],
            "image/png": "[encoded data removed]"
          },
          "metadata": {}
        },
        {
          "output_type": "stream",
          "name": "stdout",
          "text": [
            "41 41\n",
            "x 2.2 ( 41 41 )\n"
          ]
        },
        {
          "output_type": "display_data",
          "data": {
            "text/plain": [
              "<PIL.Image.Image image mode=L size=41x41 at 0x7FE25DFCB2B0>"
            ],
            "image/png": "[encoded data removed]"
          },
          "metadata": {}
        },
        {
          "output_type": "display_data",
          "data": {
            "text/plain": [
              "<PIL.Image.Image image mode=L size=540x120 at 0x7FE25EEE6730>"
            ],
            "image/png": "[encoded data removed]"
          },
          "metadata": {}
        },
        {
          "output_type": "stream",
          "name": "stdout",
          "text": [
            "45 45\n",
            "x 2.4 ( 45 45 )\n"
          ]
        },
        {
          "output_type": "display_data",
          "data": {
            "text/plain": [
              "<PIL.Image.Image image mode=L size=45x45 at 0x7FE25DFCB220>"
            ],
            "image/png": "[encoded data removed]"
          },
          "metadata": {}
        },
        {
          "output_type": "display_data",
          "data": {
            "text/plain": [
              "<PIL.Image.Image image mode=L size=540x120 at 0x7FE26E017C40>"
            ],
            "image/png": "[encoded data removed]"
          },
          "metadata": {}
        }
      ]
    },
    {
      "cell_type": "code",
      "source": [
        "### 6-2c：OpenCVの組み込み関数を使ってみる\n",
        "# Methodsの一覧: https://docs.opencv.org/4.x/df/dfb/group__imgproc__object.html#ga3a7850640f1fe1f58fe91a2d7583695d\n",
        "methods = ['cv2.TM_CCOEFF', 'cv2.TM_CCOEFF_NORMED', 'cv2.TM_CCORR',\n",
        "            'cv2.TM_CCORR_NORMED', 'cv2.TM_SQDIFF', 'cv2.TM_SQDIFF_NORMED']\n",
        "\n",
        "# 各手法で評価\n",
        "for meth in methods:\n",
        "  tmp_img2 = img2.copy()# 結果表示用画像の用意\n",
        "  method  = eval(meth)\n",
        "\n",
        "  # テンプレートマッチングを適用\n",
        "  res = cv2.matchTemplate(tmp_img2, template, method)\n",
        "  min_val, max_val, min_loc, max_loc = cv2.minMaxLoc(res)\n",
        "\n",
        "  # 類似度（TM_SQDIFF，TM_SQDIFF_NORMED）の場合は最大値をとる場所を検出\n",
        "  if method in ['cv2.TM_SQDIFF', 'cv2.TM_SQDIFF_NORMED']:\n",
        "    top_left= min_loc\n",
        "\n",
        "  # 相違度（それ以外）の場合は最小値をとる場所を検出\n",
        "  else:\n",
        "    top_left=max_loc\n",
        "  \n",
        "  bottom_right = (top_left[0] + colst, top_left[1]+rowst)\n",
        "\n",
        "  # 検出枠を重畳\n",
        "  cv2.rectangle(tmp_img2, top_left, bottom_right, 255, 2)\n",
        "\n",
        "  # 検出結果画像を表示\n",
        "  print(meth)\n",
        "  cv2_imshow(tmp_img2)"
      ],
      "metadata": {
        "id": "BSHtsqVpApKT",
        "colab": {
          "base_uri": "https://localhost:8080/",
          "height": 845
        },
        "outputId": "890157a4-6807-46d1-abff-4482a04f55c8"
      },
      "execution_count": null,
      "outputs": [
        {
          "output_type": "stream",
          "name": "stdout",
          "text": [
            "cv2.TM_CCOEFF\n"
          ]
        },
        {
          "output_type": "display_data",
          "data": {
            "text/plain": [
              "<PIL.Image.Image image mode=L size=180x120 at 0x7FE26FF09A00>"
            ],
            "image/png": "[encoded data removed]"
          },
          "metadata": {}
        },
        {
          "output_type": "stream",
          "name": "stdout",
          "text": [
            "cv2.TM_CCOEFF_NORMED\n"
          ]
        },
        {
          "output_type": "display_data",
          "data": {
            "text/plain": [
              "<PIL.Image.Image image mode=L size=180x120 at 0x7FE26FF09A00>"
            ],
            "image/png": "[encoded data removed]"
          },
          "metadata": {}
        },
        {
          "output_type": "stream",
          "name": "stdout",
          "text": [
            "cv2.TM_CCORR\n"
          ]
        },
        {
          "output_type": "display_data",
          "data": {
            "text/plain": [
              "<PIL.Image.Image image mode=L size=180x120 at 0x7FE2554AAA60>"
            ],
            "image/png": "[encoded data removed]"
          },
          "metadata": {}
        },
        {
          "output_type": "stream",
          "name": "stdout",
          "text": [
            "cv2.TM_CCORR_NORMED\n"
          ]
        },
        {
          "output_type": "display_data",
          "data": {
            "text/plain": [
              "<PIL.Image.Image image mode=L size=180x120 at 0x7FE2554AA6A0>"
            ],
            "image/png": "[encoded data removed]"
          },
          "metadata": {}
        },
        {
          "output_type": "stream",
          "name": "stdout",
          "text": [
            "cv2.TM_SQDIFF\n"
          ]
        },
        {
          "output_type": "display_data",
          "data": {
            "text/plain": [
              "<PIL.Image.Image image mode=L size=180x120 at 0x7FE26FF13FA0>"
            ],
            "image/png": "[encoded data removed]"
          },
          "metadata": {}
        },
        {
          "output_type": "stream",
          "name": "stdout",
          "text": [
            "cv2.TM_SQDIFF_NORMED\n"
          ]
        },
        {
          "output_type": "display_data",
          "data": {
            "text/plain": [
              "<PIL.Image.Image image mode=L size=180x120 at 0x7FE25E3B9B50>"
            ],
            "image/png": "[encoded data removed]"
          },
          "metadata": {}
        }
      ]
    }
  ],
  "metadata": {
    "colab": {
      "provenance": [],
      "include_colab_link": true
    },
    "kernelspec": {
      "display_name": "Python 3",
      "name": "python3"
    },
    "language_info": {
      "name": "python"
    }
  },
  "nbformat": 4,
  "nbformat_minor": 0
}