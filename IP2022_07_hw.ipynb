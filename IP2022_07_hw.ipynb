{
  "cells": [
    {
      "cell_type": "markdown",
      "metadata": {
        "id": "view-in-github",
        "colab_type": "text"
      },
      "source": [
        "<a href=\"https://colab.research.google.com/github/yuki-2000/Image_processing_lecture/blob/main/IP2022_07_hw.ipynb\" target=\"_parent\"><img src=\"https://colab.research.google.com/assets/colab-badge.svg\" alt=\"Open In Colab\"/></a>"
      ]
    },
    {
      "cell_type": "code",
      "execution_count": null,
      "metadata": {
        "id": "bpGp0yd-a3c1",
        "colab": {
          "base_uri": "https://localhost:8080/"
        },
        "outputId": "b59efb74-7b69-47cc-c702-06b2de112dc9"
      },
      "outputs": [
        {
          "output_type": "stream",
          "name": "stdout",
          "text": [
            "Mounted at /content/drive/\n",
            "/content/drive/MyDrive/Colab Notebooks\n"
          ]
        }
      ],
      "source": [
        "### 初期設定（このセルの中身は触らなくて良い）\n",
        "import numpy as np # 数値解析パッケージnumpyのimport\n",
        "import cv2 # 画像処理パッケージopencvのimport\n",
        "import matplotlib.pyplot as plt # 描画パッケージmatplotlibのimport\n",
        "import imutils\n",
        "\n",
        "# Google Colab固有の設定\n",
        "from google.colab import files\n",
        "from google.colab.patches import cv2_imshow\n",
        "\n",
        "# Google driveのmount\n",
        "from google.colab import drive\n",
        "drive.mount('/content/drive/')\n",
        "# Google Colab用directoryに移動\n",
        "%cd \"/content/drive/MyDrive/Colab Notebooks/\""
      ]
    },
    {
      "cell_type": "code",
      "execution_count": null,
      "metadata": {
        "id": "0KWi3aKybnNq",
        "colab": {
          "base_uri": "https://localhost:8080/",
          "height": 156
        },
        "outputId": "3234dbc8-8130-4afa-ca75-09b256cdf0b9"
      },
      "outputs": [
        {
          "output_type": "display_data",
          "data": {
            "text/plain": [
              "<PIL.Image.Image image mode=L size=180x120 at 0x7F6045B0FC10>"
            ],
            "image/png": "[encoded data removed]"
          },
          "metadata": {}
        },
        {
          "output_type": "display_data",
          "data": {
            "text/plain": [
              "<PIL.Image.Image image mode=L size=19x19 at 0x7F60359CEFD0>"
            ],
            "image/png": "[encoded data removed]"
          },
          "metadata": {}
        }
      ],
      "source": [
        "### 1-1a: 画像の読込と表示（このセルの中身は触らなくて良い）\n",
        "img1 = imutils.url_to_image('https://bit.ly/3gqDW32', cv2.IMREAD_GRAYSCALE)\n",
        "\n",
        "# 読み込めなかった場合の例外処理\n",
        "if img1 is None:\n",
        "  print('Image file not found.')\n",
        "\n",
        "template = imutils.url_to_image('https://bit.ly/3tYCJTI', cv2.IMREAD_GRAYSCALE)\n",
        "\n",
        "# 読み込めなかった場合の例外処理\n",
        "if template is None:\n",
        "  print('Image file not found.')\n",
        "\n",
        "# 画像を表示\n",
        "cv2_imshow(img1)\n",
        "cv2_imshow(template)"
      ]
    },
    {
      "cell_type": "code",
      "execution_count": null,
      "metadata": {
        "id": "McqX4mB1OqPb",
        "colab": {
          "base_uri": "https://localhost:8080/",
          "height": 293
        },
        "outputId": "3802732d-3319-46b3-e9c6-33430f2bd33f"
      },
      "outputs": [
        {
          "output_type": "stream",
          "name": "stdout",
          "text": [
            "粗探索結果\n"
          ]
        },
        {
          "output_type": "display_data",
          "data": {
            "text/plain": [
              "<PIL.Image.Image image mode=L size=360x120 at 0x7F60338309D0>"
            ],
            "image/png": "[encoded data removed]"
          },
          "metadata": {}
        },
        {
          "output_type": "stream",
          "name": "stdout",
          "text": [
            "密探索結果\n"
          ]
        },
        {
          "output_type": "display_data",
          "data": {
            "text/plain": [
              "<PIL.Image.Image image mode=L size=360x120 at 0x7F6033830A00>"
            ],
            "image/png": "[encoded data removed]"
          },
          "metadata": {}
        }
      ],
      "source": [
        "### 課題7 テンプレートマッチング（粗密探索法によるテンプレートマッチングの高速化）\n",
        "\n",
        "# 準備\n",
        "rows1, cols1 = img1.shape # 入力画像の大きさ取得\n",
        "rowst, colst = template.shape # テンプレート画像の大きさ取得\n",
        "sim_img_ncc = np.zeros((rows1, cols1), np.uint16) # 類似度（正規化相互相関）表示のための黒い画像を用意\n",
        "skiprows = int(rowst/2) # 粗探索のrow方向の飛ばし幅を設定（初期値はテンプレートのrow幅の半分）\n",
        "skipcols = int(colst/2) # 粗探索のrow方向の飛ばし幅を設定（初期値はテンプレートのcol幅の半分）\n",
        "th = int(255 * 0.8) # 怪しい場所を検出する閾値（初期値は255の0.8倍）\n",
        "check_point = [] # 怪しい場所を記録するための配列を用意\n",
        "\n",
        "# 正規化相互相関計算のためにテンプレートの2乗和を計算\n",
        "sum_t = 0\n",
        "for k in range (0, rowst):\n",
        "  for l in range (0, colst):\n",
        "       sum_t += int(template[k][l])**2\n",
        "\n",
        "# 入力画像をラスタ走査し，各画素位置における正規化相互相関を計算\n",
        "for i in range (0, rows1 - rowst + 1, skiprows):\n",
        "  for j in range (0, cols1 - colst + 1, skipcols):\n",
        "    sim_cc = 0\n",
        "    sum_i = 0\n",
        "    # テンプレートと重複する範囲内のラスタ走査\n",
        "    for k in range (0, rowst):\n",
        "      for l in range (0, colst):\n",
        "        sim_cc += int(template[k][l]) * int(img1[i+k][j+l])\n",
        "        sum_i += int(img1[i+k][j+l])**2\n",
        "    if ( sum_i == 0 ):\n",
        "      sim_img_ncc[i+int(rowst/2)][j+int(colst/2)] = 0\n",
        "    else: \n",
        "      sim_img_ncc[i+int(rowst/2)][j+int(colst/2)] = int(255 * sim_cc / np.sqrt(sum_t) / np.sqrt(sum_i))\n",
        "\n",
        "    # 怪しい場所を検出し，配列に座標を追記\n",
        "    if sim_img_ncc[i+int(rowst/2)][j+int(colst/2)] > th:\n",
        "      check_point.append([i,j])\n",
        "\n",
        "print(\"粗探索結果\")\n",
        "figure = np.hstack((img1, sim_img_ncc))\n",
        "cv2_imshow(figure)    \n",
        "\n",
        "\n",
        "# 各々の怪しい場所周辺（縦横方向の各々飛ばし幅の±半分の範囲）を再調査\n",
        "skiprows = int(skiprows/2) # 飛ばし幅を半分に更新\n",
        "skipcols = int(skipcols/2) # 飛ばし幅を半分に更新\n",
        "for check_point_x, check_point_y in check_point: #各チェックポイントごと\n",
        "  for i in range(check_point_x-skiprows, check_point_x+skiprows): #飛ばし幅の±半分の範囲\n",
        "    for j in range(check_point_y-skipcols, check_point_y+skipcols): #飛ばし幅の±半分の範囲\n",
        "      sim_cc = 0\n",
        "      sum_i = 0\n",
        "      # テンプレートと重複する範囲内のラスタ走査\n",
        "      for k in range (0, rowst):\n",
        "        for l in range (0, colst):\n",
        "          sim_cc += int(template[k][l]) * int(img1[i+k][j+l])\n",
        "          sum_i += int(img1[i+k][j+l])**2\n",
        "      if ( sum_i == 0 ):\n",
        "        sim_img_ncc[i+int(rowst/2)][j+int(colst/2)] = 0\n",
        "      else: \n",
        "        sim_img_ncc[i+int(rowst/2)][j+int(colst/2)] = int(255 * sim_cc / np.sqrt(sum_t) / np.sqrt(sum_i))\n",
        "\n",
        "\n",
        "\n",
        "\n",
        "\n",
        "\n",
        "\n",
        "# 元画像と正規化相互相関の分布を並べて表示\n",
        "print(\"密探索結果\")\n",
        "figure = np.hstack((img1, sim_img_ncc))\n",
        "cv2_imshow(figure)    "
      ]
    }
  ],
  "metadata": {
    "colab": {
      "provenance": [],
      "include_colab_link": true
    },
    "kernelspec": {
      "display_name": "Python 3",
      "name": "python3"
    },
    "language_info": {
      "name": "python"
    }
  },
  "nbformat": 4,
  "nbformat_minor": 0
}