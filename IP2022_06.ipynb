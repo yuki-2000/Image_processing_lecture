{
  "cells": [
    {
      "cell_type": "markdown",
      "metadata": {
        "id": "view-in-github",
        "colab_type": "text"
      },
      "source": [
        "<a href=\"https://colab.research.google.com/github/yuki-2000/Image_processing_lecture/blob/main/IP2022_06.ipynb\" target=\"_parent\"><img src=\"https://colab.research.google.com/assets/colab-badge.svg\" alt=\"Open In Colab\"/></a>"
      ]
    },
    {
      "cell_type": "code",
      "execution_count": null,
      "metadata": {
        "colab": {
          "base_uri": "https://localhost:8080/"
        },
        "id": "bpGp0yd-a3c1",
        "outputId": "4446272a-5f34-4451-8b0e-8c1e4337c192"
      },
      "outputs": [
        {
          "name": "stdout",
          "output_type": "stream",
          "text": [
            "Drive already mounted at /content/drive/; to attempt to forcibly remount, call drive.mount(\"/content/drive/\", force_remount=True).\n",
            "/content/drive/MyDrive/Colab Notebooks\n"
          ]
        }
      ],
      "source": [
        "### 初期設定（このセルの中身は触らなくて良い）\n",
        "import numpy as np # 数値解析パッケージnumpyのimport\n",
        "import cv2 # 画像処理パッケージopencvのimport\n",
        "import matplotlib.pyplot as plt # 描画パッケージmatplotlibのimport\n",
        "import imutils\n",
        "\n",
        "# Google Colab固有の設定\n",
        "from google.colab import files\n",
        "from google.colab.patches import cv2_imshow\n",
        "\n",
        "# Google driveのmount\n",
        "from google.colab import drive\n",
        "drive.mount('/content/drive/')\n",
        "# Google Colab用directoryに移動\n",
        "%cd \"/content/drive/MyDrive/Colab Notebooks/\""
      ]
    },
    {
      "cell_type": "code",
      "execution_count": null,
      "metadata": {
        "colab": {
          "background_save": true,
          "base_uri": "https://localhost:8080/",
          "height": 1000
        },
        "id": "TPkMtk7QK7yA",
        "outputId": "46e6595e-c4a0-4155-99a9-4d636d7cda64"
      },
      "outputs": [],
      "source": [
        "### 6-1：オプティカルフロー\n",
        "\n",
        "# 動画像の読込\n",
        "video = cv2.VideoCapture('https://bit.ly/3V63Pny')\n",
        "\n",
        "# 読み込めなかった場合の例外処理\n",
        "if not video.isOpened():\n",
        "  print (\"File Cannot be Opened\")\n",
        "\n",
        "# 色の生成\n",
        "color = np.random.randint(low=0,high=255,size=(100,3))\n",
        "# 動画像の先頭のフレームを読み込む\n",
        "ret, old_frame = video.read()\n",
        "# 濃淡画像に変換\n",
        "old_gray = cv2.cvtColor(old_frame, cv2.COLOR_BGR2GRAY)\n",
        "# Shi-Tomasiコーナ点検出を適用\n",
        "old_corners = cv2.goodFeaturesToTrack(old_gray, maxCorners=100,qualityLevel=0.01, minDistance=10)\n",
        "# 検出結果を記録する黒い画像を用意\n",
        "mask = np.zeros_like(old_frame)\n",
        "# 以降はループで1フレームずつ処理\n",
        "while(1):\n",
        "\n",
        "  # 動画像から次のフレームを読み込む\n",
        "  ret, new_frame = video.read()\n",
        "\n",
        "  # フレームを読み込めなかった場合（動画の最後まで到達）中断\n",
        "  if not(ret):\n",
        "    break\n",
        "\n",
        "\n",
        "  # 濃淡画像に変換\n",
        "  new_gray = cv2.cvtColor(new_frame, cv2.COLOR_BGR2GRAY)\n",
        "\n",
        "\n",
        "\n",
        "  # オプティカルフローの計算\n",
        "  new_corners, st, err = cv2.calcOpticalFlowPyrLK(old_gray, # 旧フレーム画像\n",
        "                                                    new_gray,  # 新フレーム画像\n",
        "                                                    old_corners,  # 旧コーナ点\n",
        "                                                    None,  # 新コーナ点\n",
        "                                                    winSize=(15,15),  # 探索範囲\n",
        "                                                    maxLevel=2,  # ピラミッド画像の段数\n",
        "                                                    criteria=(cv2.TERM_CRITERIA_EPS | cv2.TERM_CRITERIA_COUNT, 10, 0.03))  # 終了判定\n",
        "\n",
        "  # 新旧フレームで対応付くコーナ点の選択\n",
        "  good_new = new_corners[st==1]\n",
        "  good_old = old_corners[st==1]\n",
        "    # 各対応コーナ点間のフローの描画\n",
        "  for i, (new, old) in enumerate(zip(good_new, good_old)):\n",
        "    a,b = new.ravel()\n",
        "    c,d = old.ravel()\n",
        "        \n",
        "      # マスク画像上で新旧の対応点間を線分で結ぶ\n",
        "    mask = cv2.line(mask, pt1=(int(a), int(b)), pt2 = (int(c), int(d)), color = color[i].tolist(),thickness=2)\n",
        "\n",
        "      # 新フレーム上のコーナ点を円で表示\n",
        "    new_frame = cv2.circle(new_frame, center=(int(a), int(b)), radius=5, color=color[i].tolist(),thickness =-1)\n",
        "\n",
        "  # マスク画像を新フレーム画像に重ねて表示\n",
        "  img = cv2.add(new_frame, mask)\n",
        "  cv2_imshow(img)\n",
        "\n",
        "\n",
        "\n",
        "\n",
        "\n",
        "\n",
        "\n",
        "\n",
        "  # 旧フレームと旧コーナ点を更新\n",
        "  old_gray = new_gray.copy()\n",
        "  old_corners = good_new.reshape(-1,1,2)\n",
        "\n",
        "# 動画像ファイルを解放\n",
        "video.release()"
      ]
    }
  ],
  "metadata": {
    "colab": {
      "provenance": [],
      "include_colab_link": true
    },
    "kernelspec": {
      "display_name": "Python 3",
      "name": "python3"
    },
    "language_info": {
      "name": "python"
    }
  },
  "nbformat": 4,
  "nbformat_minor": 0
}